{
  "nbformat": 4,
  "nbformat_minor": 0,
  "metadata": {
    "colab": {
      "provenance": [],
      "machine_shape": "hm",
      "gpuType": "V100"
    },
    "kernelspec": {
      "name": "python3",
      "display_name": "Python 3"
    },
    "language_info": {
      "name": "python"
    },
    "accelerator": "GPU"
  },
  "cells": [
    {
      "cell_type": "code",
      "execution_count": 1,
      "metadata": {
        "id": "DvcXc8R16eRt"
      },
      "outputs": [],
      "source": [
        "import pandas as pd\n",
        "import numpy as np\n",
        "\n",
        "# Load the dataset\n",
        "file_path = 'BBVA.MC.csv'\n",
        "df_BBVA = pd.read_csv(file_path)\n",
        "\n",
        "# Check for missing values\n",
        "df_BBVA.isnull().sum()\n",
        "\n",
        "df_BBVA = df_BBVA.interpolate(method='linear', limit_direction='both', axis=0)\n"
      ]
    },
    {
      "cell_type": "code",
      "source": [
        "# Convert 'Date' column to datetime if it's not already\n",
        "df_BBVA['Date'] = pd.to_datetime(df_BBVA['Date'])\n",
        "\n",
        "# Set the 'Date' column as the index\n",
        "df_BBVA.set_index('Date', inplace=True)"
      ],
      "metadata": {
        "id": "7IdhqkBz1kkh"
      },
      "execution_count": 2,
      "outputs": []
    },
    {
      "cell_type": "code",
      "source": [
        "def calculate_rsi(data, window=14):\n",
        "    \"\"\"\n",
        "    Calculate the Relative Strength Index (RSI) for a given data set and window period.\n",
        "    Fills initial NaN values with the first valid RSI value.\n",
        "    \"\"\"\n",
        "    delta = data.diff()\n",
        "    gain = (delta.where(delta > 0, 0)).rolling(window=window).mean()\n",
        "    loss = (-delta.where(delta < 0, 0)).rolling(window=window).mean()\n",
        "\n",
        "    rs = gain / loss\n",
        "    rsi = 100 - (100 / (1 + rs))\n",
        "\n",
        "    # Fill initial NaN values\n",
        "    first_valid = rsi.first_valid_index()\n",
        "    rsi[:first_valid] = rsi[first_valid]\n",
        "\n",
        "    return rsi\n",
        "\n",
        "# Apply the modified RSI calculation\n",
        "df_BBVA['RSI'] = calculate_rsi(df_BBVA['Close'])\n",
        "\n",
        "# Check for NaN values after handling RSI\n",
        "print(\"NaNs in df_BBVA after handling RSI:\", df_BBVA.isnull().any().any())\n",
        "\n",
        "# Handling NaN values if necessary\n",
        "df_BBVA['RSI'].fillna(method='bfill', inplace=True)  # Backward fill\n"
      ],
      "metadata": {
        "colab": {
          "base_uri": "https://localhost:8080/"
        },
        "id": "h33bvYpG76_9",
        "outputId": "440d31cc-5cf9-4f86-dfca-41a2fc0b43ba"
      },
      "execution_count": 3,
      "outputs": [
        {
          "output_type": "stream",
          "name": "stdout",
          "text": [
            "NaNs in df_BBVA after handling RSI: False\n"
          ]
        }
      ]
    },
    {
      "cell_type": "code",
      "source": [
        "import numpy as np\n",
        "import tensorflow as tf\n",
        "import random\n",
        "\n",
        "def set_seeds(seed_value):\n",
        "    np.random.seed(seed_value)\n",
        "    random.seed(seed_value)\n",
        "    tf.random.set_seed(seed_value)\n",
        "\n",
        "set_seeds(3)"
      ],
      "metadata": {
        "id": "mkOgEchJlXTr"
      },
      "execution_count": 4,
      "outputs": []
    },
    {
      "cell_type": "code",
      "source": [
        "from sklearn.preprocessing import MinMaxScaler\n",
        "\n",
        "# Select features (Close and RSI) and scale them\n",
        "scaler = MinMaxScaler(feature_range=(0, 1))\n",
        "selected_features = df_BBVA[['Close', 'RSI']]\n",
        "scaled_features = scaler.fit_transform(selected_features)\n"
      ],
      "metadata": {
        "id": "KFrl4QGu79np"
      },
      "execution_count": 5,
      "outputs": []
    },
    {
      "cell_type": "code",
      "source": [
        "# Define the size of the training dataset\n",
        "train_size = int(len(scaled_features) * 0.8)\n",
        "\n",
        "# Split the data into training and testing datasets\n",
        "train_data, test_data = scaled_features[:train_size, :], scaled_features[train_size:, :]\n",
        "\n",
        "\n",
        "\n",
        "def create_dataset(dataset, look_back=1):\n",
        "    dataX, dataY = [], []\n",
        "    for i in range(len(dataset) - look_back - 1):\n",
        "        a = dataset[i:(i + look_back), :]\n",
        "        dataX.append(a)\n",
        "        dataY.append(dataset[i + look_back, 0])\n",
        "    return np.array(dataX), np.array(dataY)\n",
        "\n",
        "# Create training and testing datasets\n",
        "look_back = 1\n",
        "trainX, trainY = create_dataset(train_data, look_back)\n",
        "testX, testY = create_dataset(test_data, look_back)\n"
      ],
      "metadata": {
        "id": "AUJ2I7Lr8ARV"
      },
      "execution_count": 6,
      "outputs": []
    },
    {
      "cell_type": "code",
      "source": [
        "from keras.models import Sequential\n",
        "from keras.layers import Dense, LSTM\n",
        "from keras.optimizers import Adam\n",
        "\n",
        "# Function to create Keras model\n",
        "def create_model(units=40):\n",
        "    model = Sequential()\n",
        "    model.add(LSTM(units, input_shape=(look_back, 2)))  # 2 features: Close and RSI\n",
        "    model.add(Dense(1))\n",
        "    model.compile(loss='mean_squared_error', optimizer=Adam(learning_rate=0.001))\n",
        "    return model\n",
        "\n"
      ],
      "metadata": {
        "id": "_Bx0Ih-a8ERd"
      },
      "execution_count": 7,
      "outputs": []
    },
    {
      "cell_type": "code",
      "source": [
        "from sklearn.metrics import mean_squared_error\n",
        "\n",
        "units_options = np.arange(40, 90, 10)\n",
        "epochs_options = [100, 150]\n",
        "\n",
        "best_score = float('inf')\n",
        "best_params = {}\n",
        "best_rmse = float('inf')\n",
        "best_mape = float('inf')\n",
        "\n",
        "for units in units_options:\n",
        "    for epochs in epochs_options:\n",
        "        tf.keras.backend.clear_session()\n",
        "        model = create_model(units)\n",
        "        model.fit(trainX, trainY, epochs=epochs, batch_size=1, verbose=0)\n",
        "\n",
        "        predictions = model.predict(testX).flatten()\n",
        "        mse = mean_squared_error(testY.flatten(), predictions)\n",
        "        rmse = np.sqrt(mse)\n",
        "        mape = np.mean(np.abs((testY.flatten() - predictions) / testY.flatten())) * 100\n",
        "\n",
        "        if mse < best_score or (mse == best_score and (rmse < best_rmse or mape < best_mape)):\n",
        "            best_score = mse\n",
        "            best_rmse = rmse\n",
        "            best_mape = mape\n",
        "            best_params = {'units': units, 'epochs': epochs}\n",
        "\n",
        "        print(f\"Tested: Units={units}, Epochs={epochs}, MSE={mse}, RMSE={rmse}, MAPE={mape}%\")\n",
        "\n",
        "print(\"Best Model: MSE = %f, RMSE = %f, MAPE = %f using %s\" % (best_score, best_rmse, best_mape, best_params))"
      ],
      "metadata": {
        "colab": {
          "base_uri": "https://localhost:8080/"
        },
        "id": "jZj-AnOU8J55",
        "outputId": "f378e0c4-22d1-410c-9fa0-a72e8a79ace2"
      },
      "execution_count": 8,
      "outputs": [
        {
          "output_type": "stream",
          "name": "stdout",
          "text": [
            "16/16 [==============================] - 0s 2ms/step\n",
            "Tested: Units=40, Epochs=100, MSE=0.0002336338661898907, RMSE=0.015285086397854959, MAPE=2.5185931813647215%\n",
            "16/16 [==============================] - 0s 2ms/step\n",
            "Tested: Units=40, Epochs=150, MSE=0.00022763461957200974, RMSE=0.015087565064383641, MAPE=2.474854026065509%\n",
            "16/16 [==============================] - 0s 2ms/step\n",
            "Tested: Units=50, Epochs=100, MSE=0.00023370979918899013, RMSE=0.015287570087786683, MAPE=2.5256201998759282%\n",
            "16/16 [==============================] - 0s 2ms/step\n",
            "Tested: Units=50, Epochs=150, MSE=0.00022609184081866083, RMSE=0.015036350648300964, MAPE=2.456775164669801%\n",
            "16/16 [==============================] - 0s 2ms/step\n",
            "Tested: Units=60, Epochs=100, MSE=0.000234467632354947, RMSE=0.015312335953568516, MAPE=2.5267918282434203%\n",
            "16/16 [==============================] - 0s 2ms/step\n",
            "Tested: Units=60, Epochs=150, MSE=0.00022715035087135226, RMSE=0.015071507916308582, MAPE=2.4718267633651587%\n",
            "16/16 [==============================] - 0s 2ms/step\n",
            "Tested: Units=70, Epochs=100, MSE=0.00023200834602216412, RMSE=0.015231820180863616, MAPE=2.5049785718809403%\n",
            "16/16 [==============================] - 0s 2ms/step\n",
            "Tested: Units=70, Epochs=150, MSE=0.00022849240007920144, RMSE=0.015115965072703809, MAPE=2.487339481411712%\n",
            "16/16 [==============================] - 0s 2ms/step\n",
            "Tested: Units=80, Epochs=100, MSE=0.00023227842166826076, RMSE=0.015240683110289406, MAPE=2.5038805179042822%\n",
            "16/16 [==============================] - 0s 2ms/step\n",
            "Tested: Units=80, Epochs=150, MSE=0.00022881817337598538, RMSE=0.015126737036650878, MAPE=2.492123746202745%\n",
            "Best Model: MSE = 0.000226, RMSE = 0.015036, MAPE = 2.456775 using {'units': 50, 'epochs': 150}\n"
          ]
        }
      ]
    },
    {
      "cell_type": "code",
      "source": [
        "tf.keras.backend.clear_session()\n",
        "\n",
        "best_units = best_params['units']\n",
        "best_epochs = best_params['epochs']\n",
        "model_best = create_model(units=best_units)\n",
        "\n",
        "model_best.fit(trainX, trainY, epochs=best_epochs, batch_size=1, verbose=1)\n"
      ],
      "metadata": {
        "colab": {
          "base_uri": "https://localhost:8080/"
        },
        "id": "n4dcVv6S8lpl",
        "outputId": "4a2cac03-a62d-4242-a6ff-fb3306033082"
      },
      "execution_count": 9,
      "outputs": [
        {
          "output_type": "stream",
          "name": "stdout",
          "text": [
            "Epoch 1/150\n",
            "2046/2046 [==============================] - 7s 3ms/step - loss: 0.0086\n",
            "Epoch 2/150\n",
            "2046/2046 [==============================] - 5s 3ms/step - loss: 3.3817e-04\n",
            "Epoch 3/150\n",
            "2046/2046 [==============================] - 6s 3ms/step - loss: 3.1114e-04\n",
            "Epoch 4/150\n",
            "2046/2046 [==============================] - 5s 3ms/step - loss: 3.1856e-04\n",
            "Epoch 5/150\n",
            "2046/2046 [==============================] - 6s 3ms/step - loss: 2.9875e-04\n",
            "Epoch 6/150\n",
            "2046/2046 [==============================] - 6s 3ms/step - loss: 2.9410e-04\n",
            "Epoch 7/150\n",
            "2046/2046 [==============================] - 6s 3ms/step - loss: 3.0745e-04\n",
            "Epoch 8/150\n",
            "2046/2046 [==============================] - 5s 3ms/step - loss: 3.0998e-04\n",
            "Epoch 9/150\n",
            "2046/2046 [==============================] - 5s 3ms/step - loss: 2.9762e-04\n",
            "Epoch 10/150\n",
            "2046/2046 [==============================] - 6s 3ms/step - loss: 3.0342e-04\n",
            "Epoch 11/150\n",
            "2046/2046 [==============================] - 6s 3ms/step - loss: 2.8423e-04\n",
            "Epoch 12/150\n",
            "2046/2046 [==============================] - 5s 3ms/step - loss: 2.9953e-04\n",
            "Epoch 13/150\n",
            "2046/2046 [==============================] - 5s 3ms/step - loss: 2.9675e-04\n",
            "Epoch 14/150\n",
            "2046/2046 [==============================] - 5s 3ms/step - loss: 2.9135e-04\n",
            "Epoch 15/150\n",
            "2046/2046 [==============================] - 6s 3ms/step - loss: 2.9881e-04\n",
            "Epoch 16/150\n",
            "2046/2046 [==============================] - 5s 3ms/step - loss: 2.9788e-04\n",
            "Epoch 17/150\n",
            "2046/2046 [==============================] - 6s 3ms/step - loss: 2.9170e-04\n",
            "Epoch 18/150\n",
            "2046/2046 [==============================] - 5s 3ms/step - loss: 2.9427e-04\n",
            "Epoch 19/150\n",
            "2046/2046 [==============================] - 6s 3ms/step - loss: 2.9928e-04\n",
            "Epoch 20/150\n",
            "2046/2046 [==============================] - 6s 3ms/step - loss: 2.9811e-04\n",
            "Epoch 21/150\n",
            "2046/2046 [==============================] - 6s 3ms/step - loss: 2.9295e-04\n",
            "Epoch 22/150\n",
            "2046/2046 [==============================] - 5s 3ms/step - loss: 2.8700e-04\n",
            "Epoch 23/150\n",
            "2046/2046 [==============================] - 5s 3ms/step - loss: 2.8914e-04\n",
            "Epoch 24/150\n",
            "2046/2046 [==============================] - 6s 3ms/step - loss: 2.8946e-04\n",
            "Epoch 25/150\n",
            "2046/2046 [==============================] - 5s 3ms/step - loss: 2.8760e-04\n",
            "Epoch 26/150\n",
            "2046/2046 [==============================] - 6s 3ms/step - loss: 2.8992e-04\n",
            "Epoch 27/150\n",
            "2046/2046 [==============================] - 5s 3ms/step - loss: 2.9098e-04\n",
            "Epoch 28/150\n",
            "2046/2046 [==============================] - 6s 3ms/step - loss: 2.8468e-04\n",
            "Epoch 29/150\n",
            "2046/2046 [==============================] - 5s 3ms/step - loss: 2.7394e-04\n",
            "Epoch 30/150\n",
            "2046/2046 [==============================] - 6s 3ms/step - loss: 2.8926e-04\n",
            "Epoch 31/150\n",
            "2046/2046 [==============================] - 5s 3ms/step - loss: 2.8204e-04\n",
            "Epoch 32/150\n",
            "2046/2046 [==============================] - 6s 3ms/step - loss: 2.8891e-04\n",
            "Epoch 33/150\n",
            "2046/2046 [==============================] - 6s 3ms/step - loss: 2.8935e-04\n",
            "Epoch 34/150\n",
            "2046/2046 [==============================] - 6s 3ms/step - loss: 2.8185e-04\n",
            "Epoch 35/150\n",
            "2046/2046 [==============================] - 6s 3ms/step - loss: 2.7574e-04\n",
            "Epoch 36/150\n",
            "2046/2046 [==============================] - 6s 3ms/step - loss: 2.9287e-04\n",
            "Epoch 37/150\n",
            "2046/2046 [==============================] - 6s 3ms/step - loss: 2.8844e-04\n",
            "Epoch 38/150\n",
            "2046/2046 [==============================] - 6s 3ms/step - loss: 2.7907e-04\n",
            "Epoch 39/150\n",
            "2046/2046 [==============================] - 6s 3ms/step - loss: 2.8716e-04\n",
            "Epoch 40/150\n",
            "2046/2046 [==============================] - 6s 3ms/step - loss: 2.8973e-04\n",
            "Epoch 41/150\n",
            "2046/2046 [==============================] - 6s 3ms/step - loss: 2.8645e-04\n",
            "Epoch 42/150\n",
            "2046/2046 [==============================] - 6s 3ms/step - loss: 2.8180e-04\n",
            "Epoch 43/150\n",
            "2046/2046 [==============================] - 6s 3ms/step - loss: 2.7873e-04\n",
            "Epoch 44/150\n",
            "2046/2046 [==============================] - 6s 3ms/step - loss: 2.8746e-04\n",
            "Epoch 45/150\n",
            "2046/2046 [==============================] - 6s 3ms/step - loss: 2.7874e-04\n",
            "Epoch 46/150\n",
            "2046/2046 [==============================] - 6s 3ms/step - loss: 2.9037e-04\n",
            "Epoch 47/150\n",
            "2046/2046 [==============================] - 6s 3ms/step - loss: 2.7289e-04\n",
            "Epoch 48/150\n",
            "2046/2046 [==============================] - 6s 3ms/step - loss: 2.8609e-04\n",
            "Epoch 49/150\n",
            "2046/2046 [==============================] - 6s 3ms/step - loss: 2.8166e-04\n",
            "Epoch 50/150\n",
            "2046/2046 [==============================] - 6s 3ms/step - loss: 2.7903e-04\n",
            "Epoch 51/150\n",
            "2046/2046 [==============================] - 6s 3ms/step - loss: 2.8044e-04\n",
            "Epoch 52/150\n",
            "2046/2046 [==============================] - 6s 3ms/step - loss: 2.8295e-04\n",
            "Epoch 53/150\n",
            "2046/2046 [==============================] - 6s 3ms/step - loss: 2.7537e-04\n",
            "Epoch 54/150\n",
            "2046/2046 [==============================] - 6s 3ms/step - loss: 2.8466e-04\n",
            "Epoch 55/150\n",
            "2046/2046 [==============================] - 6s 3ms/step - loss: 2.8748e-04\n",
            "Epoch 56/150\n",
            "2046/2046 [==============================] - 6s 3ms/step - loss: 2.7434e-04\n",
            "Epoch 57/150\n",
            "2046/2046 [==============================] - 5s 3ms/step - loss: 2.7659e-04\n",
            "Epoch 58/150\n",
            "2046/2046 [==============================] - 6s 3ms/step - loss: 2.7942e-04\n",
            "Epoch 59/150\n",
            "2046/2046 [==============================] - 5s 3ms/step - loss: 2.7624e-04\n",
            "Epoch 60/150\n",
            "2046/2046 [==============================] - 6s 3ms/step - loss: 2.8005e-04\n",
            "Epoch 61/150\n",
            "2046/2046 [==============================] - 6s 3ms/step - loss: 2.7738e-04\n",
            "Epoch 62/150\n",
            "2046/2046 [==============================] - 6s 3ms/step - loss: 2.7699e-04\n",
            "Epoch 63/150\n",
            "2046/2046 [==============================] - 6s 3ms/step - loss: 2.7506e-04\n",
            "Epoch 64/150\n",
            "2046/2046 [==============================] - 6s 3ms/step - loss: 2.7854e-04\n",
            "Epoch 65/150\n",
            "2046/2046 [==============================] - 6s 3ms/step - loss: 2.7657e-04\n",
            "Epoch 66/150\n",
            "2046/2046 [==============================] - 5s 3ms/step - loss: 2.8560e-04\n",
            "Epoch 67/150\n",
            "2046/2046 [==============================] - 6s 3ms/step - loss: 2.7289e-04\n",
            "Epoch 68/150\n",
            "2046/2046 [==============================] - 5s 3ms/step - loss: 2.7559e-04\n",
            "Epoch 69/150\n",
            "2046/2046 [==============================] - 6s 3ms/step - loss: 2.7212e-04\n",
            "Epoch 70/150\n",
            "2046/2046 [==============================] - 5s 3ms/step - loss: 2.7323e-04\n",
            "Epoch 71/150\n",
            "2046/2046 [==============================] - 6s 3ms/step - loss: 2.7021e-04\n",
            "Epoch 72/150\n",
            "2046/2046 [==============================] - 6s 3ms/step - loss: 2.7214e-04\n",
            "Epoch 73/150\n",
            "2046/2046 [==============================] - 6s 3ms/step - loss: 2.8110e-04\n",
            "Epoch 74/150\n",
            "2046/2046 [==============================] - 6s 3ms/step - loss: 2.7782e-04\n",
            "Epoch 75/150\n",
            "2046/2046 [==============================] - 6s 3ms/step - loss: 2.7606e-04\n",
            "Epoch 76/150\n",
            "2046/2046 [==============================] - 6s 3ms/step - loss: 2.7163e-04\n",
            "Epoch 77/150\n",
            "2046/2046 [==============================] - 6s 3ms/step - loss: 2.7365e-04\n",
            "Epoch 78/150\n",
            "2046/2046 [==============================] - 6s 3ms/step - loss: 2.7969e-04\n",
            "Epoch 79/150\n",
            "2046/2046 [==============================] - 6s 3ms/step - loss: 2.6566e-04\n",
            "Epoch 80/150\n",
            "2046/2046 [==============================] - 6s 3ms/step - loss: 2.7130e-04\n",
            "Epoch 81/150\n",
            "2046/2046 [==============================] - 6s 3ms/step - loss: 2.6385e-04\n",
            "Epoch 82/150\n",
            "2046/2046 [==============================] - 6s 3ms/step - loss: 2.7497e-04\n",
            "Epoch 83/150\n",
            "2046/2046 [==============================] - 6s 3ms/step - loss: 2.6710e-04\n",
            "Epoch 84/150\n",
            "2046/2046 [==============================] - 6s 3ms/step - loss: 2.7559e-04\n",
            "Epoch 85/150\n",
            "2046/2046 [==============================] - 6s 3ms/step - loss: 2.7545e-04\n",
            "Epoch 86/150\n",
            "2046/2046 [==============================] - 6s 3ms/step - loss: 2.6933e-04\n",
            "Epoch 87/150\n",
            "2046/2046 [==============================] - 6s 3ms/step - loss: 2.7073e-04\n",
            "Epoch 88/150\n",
            "2046/2046 [==============================] - 6s 3ms/step - loss: 2.7179e-04\n",
            "Epoch 89/150\n",
            "2046/2046 [==============================] - 6s 3ms/step - loss: 2.7396e-04\n",
            "Epoch 90/150\n",
            "2046/2046 [==============================] - 6s 3ms/step - loss: 2.7360e-04\n",
            "Epoch 91/150\n",
            "2046/2046 [==============================] - 6s 3ms/step - loss: 2.6594e-04\n",
            "Epoch 92/150\n",
            "2046/2046 [==============================] - 6s 3ms/step - loss: 2.7564e-04\n",
            "Epoch 93/150\n",
            "2046/2046 [==============================] - 6s 3ms/step - loss: 2.6802e-04\n",
            "Epoch 94/150\n",
            "2046/2046 [==============================] - 6s 3ms/step - loss: 2.7211e-04\n",
            "Epoch 95/150\n",
            "2046/2046 [==============================] - 5s 3ms/step - loss: 2.6951e-04\n",
            "Epoch 96/150\n",
            "2046/2046 [==============================] - 6s 3ms/step - loss: 2.6914e-04\n",
            "Epoch 97/150\n",
            "2046/2046 [==============================] - 6s 3ms/step - loss: 2.6829e-04\n",
            "Epoch 98/150\n",
            "2046/2046 [==============================] - 6s 3ms/step - loss: 2.6764e-04\n",
            "Epoch 99/150\n",
            "2046/2046 [==============================] - 6s 3ms/step - loss: 2.7137e-04\n",
            "Epoch 100/150\n",
            "2046/2046 [==============================] - 6s 3ms/step - loss: 2.7007e-04\n",
            "Epoch 101/150\n",
            "2046/2046 [==============================] - 6s 3ms/step - loss: 2.6954e-04\n",
            "Epoch 102/150\n",
            "2046/2046 [==============================] - 6s 3ms/step - loss: 2.6905e-04\n",
            "Epoch 103/150\n",
            "2046/2046 [==============================] - 6s 3ms/step - loss: 2.7050e-04\n",
            "Epoch 104/150\n",
            "2046/2046 [==============================] - 6s 3ms/step - loss: 2.6524e-04\n",
            "Epoch 105/150\n",
            "2046/2046 [==============================] - 6s 3ms/step - loss: 2.8155e-04\n",
            "Epoch 106/150\n",
            "2046/2046 [==============================] - 6s 3ms/step - loss: 2.6880e-04\n",
            "Epoch 107/150\n",
            "2046/2046 [==============================] - 6s 3ms/step - loss: 2.6739e-04\n",
            "Epoch 108/150\n",
            "2046/2046 [==============================] - 6s 3ms/step - loss: 2.7384e-04\n",
            "Epoch 109/150\n",
            "2046/2046 [==============================] - 6s 3ms/step - loss: 2.6591e-04\n",
            "Epoch 110/150\n",
            "2046/2046 [==============================] - 6s 3ms/step - loss: 2.6980e-04\n",
            "Epoch 111/150\n",
            "2046/2046 [==============================] - 6s 3ms/step - loss: 2.6512e-04\n",
            "Epoch 112/150\n",
            "2046/2046 [==============================] - 6s 3ms/step - loss: 2.6771e-04\n",
            "Epoch 113/150\n",
            "2046/2046 [==============================] - 6s 3ms/step - loss: 2.6934e-04\n",
            "Epoch 114/150\n",
            "2046/2046 [==============================] - 6s 3ms/step - loss: 2.6836e-04\n",
            "Epoch 115/150\n",
            "2046/2046 [==============================] - 6s 3ms/step - loss: 2.7140e-04\n",
            "Epoch 116/150\n",
            "2046/2046 [==============================] - 6s 3ms/step - loss: 2.6595e-04\n",
            "Epoch 117/150\n",
            "2046/2046 [==============================] - 6s 3ms/step - loss: 2.6950e-04\n",
            "Epoch 118/150\n",
            "2046/2046 [==============================] - 6s 3ms/step - loss: 2.6360e-04\n",
            "Epoch 119/150\n",
            "2046/2046 [==============================] - 6s 3ms/step - loss: 2.7117e-04\n",
            "Epoch 120/150\n",
            "2046/2046 [==============================] - 6s 3ms/step - loss: 2.6479e-04\n",
            "Epoch 121/150\n",
            "2046/2046 [==============================] - 6s 3ms/step - loss: 2.6362e-04\n",
            "Epoch 122/150\n",
            "2046/2046 [==============================] - 6s 3ms/step - loss: 2.6292e-04\n",
            "Epoch 123/150\n",
            "2046/2046 [==============================] - 5s 3ms/step - loss: 2.6430e-04\n",
            "Epoch 124/150\n",
            "2046/2046 [==============================] - 6s 3ms/step - loss: 2.5986e-04\n",
            "Epoch 125/150\n",
            "2046/2046 [==============================] - 6s 3ms/step - loss: 2.6473e-04\n",
            "Epoch 126/150\n",
            "2046/2046 [==============================] - 6s 3ms/step - loss: 2.6124e-04\n",
            "Epoch 127/150\n",
            "2046/2046 [==============================] - 5s 3ms/step - loss: 2.5776e-04\n",
            "Epoch 128/150\n",
            "2046/2046 [==============================] - 6s 3ms/step - loss: 2.6242e-04\n",
            "Epoch 129/150\n",
            "2046/2046 [==============================] - 6s 3ms/step - loss: 2.5248e-04\n",
            "Epoch 130/150\n",
            "2046/2046 [==============================] - 6s 3ms/step - loss: 2.6421e-04\n",
            "Epoch 131/150\n",
            "2046/2046 [==============================] - 6s 3ms/step - loss: 2.6226e-04\n",
            "Epoch 132/150\n",
            "2046/2046 [==============================] - 6s 3ms/step - loss: 2.6117e-04\n",
            "Epoch 133/150\n",
            "2046/2046 [==============================] - 5s 3ms/step - loss: 2.6068e-04\n",
            "Epoch 134/150\n",
            "2046/2046 [==============================] - 6s 3ms/step - loss: 2.5821e-04\n",
            "Epoch 135/150\n",
            "2046/2046 [==============================] - 6s 3ms/step - loss: 2.6238e-04\n",
            "Epoch 136/150\n",
            "2046/2046 [==============================] - 6s 3ms/step - loss: 2.6128e-04\n",
            "Epoch 137/150\n",
            "2046/2046 [==============================] - 6s 3ms/step - loss: 2.5667e-04\n",
            "Epoch 138/150\n",
            "2046/2046 [==============================] - 6s 3ms/step - loss: 2.6123e-04\n",
            "Epoch 139/150\n",
            "2046/2046 [==============================] - 6s 3ms/step - loss: 2.6187e-04\n",
            "Epoch 140/150\n",
            "2046/2046 [==============================] - 6s 3ms/step - loss: 2.6063e-04\n",
            "Epoch 141/150\n",
            "2046/2046 [==============================] - 6s 3ms/step - loss: 2.6257e-04\n",
            "Epoch 142/150\n",
            "2046/2046 [==============================] - 6s 3ms/step - loss: 2.5899e-04\n",
            "Epoch 143/150\n",
            "2046/2046 [==============================] - 6s 3ms/step - loss: 2.6364e-04\n",
            "Epoch 144/150\n",
            "2046/2046 [==============================] - 6s 3ms/step - loss: 2.6567e-04\n",
            "Epoch 145/150\n",
            "2046/2046 [==============================] - 6s 3ms/step - loss: 2.6457e-04\n",
            "Epoch 146/150\n",
            "2046/2046 [==============================] - 6s 3ms/step - loss: 2.6602e-04\n",
            "Epoch 147/150\n",
            "2046/2046 [==============================] - 6s 3ms/step - loss: 2.5614e-04\n",
            "Epoch 148/150\n",
            "2046/2046 [==============================] - 6s 3ms/step - loss: 2.6484e-04\n",
            "Epoch 149/150\n",
            "2046/2046 [==============================] - 6s 3ms/step - loss: 2.6546e-04\n",
            "Epoch 150/150\n",
            "2046/2046 [==============================] - 6s 3ms/step - loss: 2.6103e-04\n"
          ]
        },
        {
          "output_type": "execute_result",
          "data": {
            "text/plain": [
              "<keras.src.callbacks.History at 0x79952ad5b9d0>"
            ]
          },
          "metadata": {},
          "execution_count": 9
        }
      ]
    },
    {
      "cell_type": "code",
      "source": [
        "# Make predictions on the test dataset\n",
        "testPredictions = model_best.predict(testX).flatten()\n",
        "\n",
        "# Rescale predictions and actual values back to original scale\n",
        "testY_original = scaler.inverse_transform(np.column_stack([testY, np.zeros_like(testY)]))[:, 0]\n",
        "testPredictions_original = scaler.inverse_transform(np.column_stack([testPredictions, np.zeros_like(testPredictions)]))[:, 0]\n",
        "\n",
        "\n"
      ],
      "metadata": {
        "colab": {
          "base_uri": "https://localhost:8080/"
        },
        "id": "3Wn3cJBRY1yG",
        "outputId": "fa673e69-bbcc-4885-f98f-394514aa22c5"
      },
      "execution_count": 10,
      "outputs": [
        {
          "output_type": "stream",
          "name": "stdout",
          "text": [
            "16/16 [==============================] - 0s 2ms/step\n"
          ]
        }
      ]
    },
    {
      "cell_type": "code",
      "source": [
        "# Calculate MSE, RMSE, and MAPE using the original scale values\n",
        "mse = mean_squared_error(testY_original, testPredictions_original)\n",
        "rmse = np.sqrt(mse)\n",
        "mape = np.mean(np.abs((testY_original - testPredictions_original) / testY_original)) * 100\n",
        "\n",
        "# Output the performance metrics\n",
        "print(f'Mean Squared Error (MSE) on Original Scale: {mse}')\n",
        "print(f'Root Mean Squared Error (RMSE) on Original Scale: {rmse}')\n",
        "print(f'Mean Absolute Percentage Error (MAPE) on Original Scale: {mape}%')\n"
      ],
      "metadata": {
        "colab": {
          "base_uri": "https://localhost:8080/"
        },
        "id": "aVDwUG3emtqd",
        "outputId": "bc33f62e-95cc-49a6-83da-04c355242029"
      },
      "execution_count": 11,
      "outputs": [
        {
          "output_type": "stream",
          "name": "stdout",
          "text": [
            "Mean Squared Error (MSE) on Original Scale: 0.013806187697053395\n",
            "Root Mean Squared Error (RMSE) on Original Scale: 0.11749973488077918\n",
            "Mean Absolute Percentage Error (MAPE) on Original Scale: 1.503831401616464%\n"
          ]
        }
      ]
    },
    {
      "cell_type": "code",
      "source": [
        "test_dates = df_BBVA.index[train_size + look_back + 1:len(df_BBVA)]\n",
        "\n",
        "\n",
        "import matplotlib.pyplot as plt\n",
        "\n",
        "\n",
        "\n",
        "# Plotting the test predictions with original scale\n",
        "plt.figure(figsize=(12,6))\n",
        "plt.plot(test_dates, testY_original, label='Actual Price', color='blue', linewidth=1)\n",
        "plt.plot(test_dates, testPredictions_original, label='Predicted Price', color='red', linewidth=1)\n",
        "plt.title('LSTM Two Feature Model: Actual vs. Predicted Stock Prices for BBVA')\n",
        "plt.xlabel('Time')\n",
        "plt.ylabel('Stock Price (in EUR)')\n",
        "plt.legend()\n",
        "plt.xticks(rotation=45)\n",
        "plt.show()\n",
        "\n"
      ],
      "metadata": {
        "colab": {
          "base_uri": "https://localhost:8080/",
          "height": 601
        },
        "id": "a60iN1E5ckDP",
        "outputId": "34e7a621-1289-42ed-d75a-c59de20ba481"
      },
      "execution_count": 12,
      "outputs": [
        {
          "output_type": "display_data",
          "data": {
            "text/plain": [
              "<Figure size 1200x600 with 1 Axes>"
            ],
            "image/png": "[encoded data removed]"
          },
          "metadata": {}
        }
      ]
    },
    {
      "cell_type": "code",
      "source": [],
      "metadata": {
        "id": "AYBmMfrZcnKK"
      },
      "execution_count": 12,
      "outputs": []
    }
  ]
}