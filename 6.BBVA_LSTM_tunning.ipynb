{
  "nbformat": 4,
  "nbformat_minor": 0,
  "metadata": {
    "colab": {
      "provenance": [],
      "machine_shape": "hm"
    },
    "kernelspec": {
      "name": "python3",
      "display_name": "Python 3"
    },
    "language_info": {
      "name": "python"
    }
  },
  "cells": [
    {
      "cell_type": "code",
      "execution_count": 1,
      "metadata": {
        "id": "_2mB1whk1sz4"
      },
      "outputs": [],
      "source": [
        "import pandas as pd\n",
        "import numpy as np\n",
        "import tensorflow as tf\n",
        "from sklearn.preprocessing import MinMaxScaler\n",
        "\n",
        "# Load and preprocess dataset\n",
        "file_path = 'BBVA.MC.csv'\n",
        "df_BBVA = pd.read_csv(file_path)\n",
        "df_BBVA = df_BBVA.interpolate(method='linear', limit_direction='both', axis=0)\n",
        "df_BBVA['Date'] = pd.to_datetime(df_BBVA['Date'])\n",
        "df_BBVA.set_index('Date', inplace=True)\n"
      ]
    },
    {
      "cell_type": "code",
      "source": [
        "# Set seed for reproducibility\n",
        "seed_value = 42\n",
        "np.random.seed(seed_value)\n",
        "tf.random.set_seed(seed_value)\n"
      ],
      "metadata": {
        "id": "r0sIn3lD12Cl"
      },
      "execution_count": 2,
      "outputs": []
    },
    {
      "cell_type": "code",
      "source": [
        "# Scaling the data\n",
        "scaler = MinMaxScaler(feature_range=(0, 1))\n",
        "df_close_BBVA = df_BBVA['Close'].values.reshape(-1, 1)\n",
        "scaled_df_close_BBVA = scaler.fit_transform(df_close_BBVA)\n"
      ],
      "metadata": {
        "id": "vfnmtvzr13z2"
      },
      "execution_count": 3,
      "outputs": []
    },
    {
      "cell_type": "code",
      "source": [
        "# Split the data into training and testing datasets\n",
        "train_size_BBVA = int(len(scaled_df_close_BBVA) * 0.8)\n",
        "train_BBVA, test_BBVA = scaled_df_close_BBVA[:train_size_BBVA], scaled_df_close_BBVA[train_size_BBVA:]"
      ],
      "metadata": {
        "id": "Yfx8u39l14CF"
      },
      "execution_count": 4,
      "outputs": []
    },
    {
      "cell_type": "code",
      "source": [
        "# Create training and testing datasets\n",
        "def create_dataset(dataset, look_back=1):\n",
        "    dataX, dataY = [], []\n",
        "    for i in range(len(dataset) - look_back - 1):\n",
        "        a = dataset[i:(i + look_back), 0]\n",
        "        dataX.append(a)\n",
        "        dataY.append(dataset[i + look_back, 0])\n",
        "    return np.array(dataX), np.array(dataY)\n",
        "\n",
        "look_back = 1\n",
        "trainX_BBVA, trainY_BBVA = create_dataset(train_BBVA, look_back)\n",
        "testX_BBVA, testY_BBVA = create_dataset(test_BBVA, look_back)\n",
        "\n",
        "# Reshape input to be [samples, time steps, features]\n",
        "trainX = np.reshape(trainX_BBVA, (trainX_BBVA.shape[0], 1, trainX_BBVA.shape[1]))\n",
        "testX = np.reshape(testX_BBVA, (testX_BBVA.shape[0], 1, testX_BBVA.shape[1]))"
      ],
      "metadata": {
        "id": "lgK-Zf0B14SP"
      },
      "execution_count": 5,
      "outputs": []
    },
    {
      "cell_type": "code",
      "source": [
        "from keras.models import Sequential\n",
        "from keras.layers import Dense, LSTM\n",
        "from sklearn.metrics import mean_squared_error\n",
        "\n",
        "# Function to create Keras model\n",
        "def create_model(units):\n",
        "    model = Sequential()\n",
        "    model.add(LSTM(units, input_shape=(1, look_back)))\n",
        "    model.add(Dense(1))\n",
        "    model.compile(loss='mean_squared_error', optimizer='adam')\n",
        "    return model\n",
        "\n",
        "# Hyperparameters to search\n",
        "units_options = np.arange(4, 44, 10)\n",
        "epochs_options = [100, 150]\n",
        "\n",
        "best_score = float('inf')\n",
        "best_params = {}\n",
        "\n",
        "for units in units_options:\n",
        "    for epochs in epochs_options:\n",
        "        tf.keras.backend.clear_session()\n",
        "        model = create_model(units)\n",
        "        model.fit(trainX, trainY_BBVA, epochs=epochs, batch_size=1, verbose=0)\n",
        "\n",
        "        predictions = model.predict(testX).flatten()\n",
        "        mse = mean_squared_error(testY_BBVA, predictions)\n",
        "\n",
        "        if mse < best_score:\n",
        "            best_score = mse\n",
        "            best_params = {'units': units, 'epochs': epochs}\n",
        "\n",
        "print(\"Best Model: MSE = %f using %s\" % (best_score, best_params))"
      ],
      "metadata": {
        "colab": {
          "base_uri": "https://localhost:8080/"
        },
        "id": "HwiHfSUR2EhD",
        "outputId": "7059043a-d1c0-40fe-f9e3-3546c206f437"
      },
      "execution_count": 6,
      "outputs": [
        {
          "output_type": "stream",
          "name": "stdout",
          "text": [
            "16/16 [==============================] - 1s 2ms/step\n",
            "16/16 [==============================] - 0s 2ms/step\n",
            "16/16 [==============================] - 0s 2ms/step\n",
            "16/16 [==============================] - 0s 2ms/step\n",
            "16/16 [==============================] - 0s 2ms/step\n",
            "16/16 [==============================] - 0s 2ms/step\n",
            "16/16 [==============================] - 0s 2ms/step\n",
            "16/16 [==============================] - 0s 2ms/step\n",
            "Best Model: MSE = 0.000218 using {'units': 14, 'epochs': 150}\n"
          ]
        }
      ]
    },
    {
      "cell_type": "code",
      "source": [
        "# Recreate the best model using the identified parameters\n",
        "model_best = create_model(best_params['units'])\n",
        "model_best.fit(trainX, trainY_BBVA, epochs=best_params['epochs'], batch_size=1, verbose=1)\n"
      ],
      "metadata": {
        "colab": {
          "base_uri": "https://localhost:8080/"
        },
        "id": "PK8HQ3xr2Qmr",
        "outputId": "d9bbbc3d-ac74-45a2-8a48-e974b5f61f97"
      },
      "execution_count": 7,
      "outputs": [
        {
          "output_type": "stream",
          "name": "stdout",
          "text": [
            "Epoch 1/150\n",
            "2046/2046 [==============================] - 7s 2ms/step - loss: 0.0161\n",
            "Epoch 2/150\n",
            "2046/2046 [==============================] - 5s 2ms/step - loss: 3.5411e-04\n",
            "Epoch 3/150\n",
            "2046/2046 [==============================] - 5s 2ms/step - loss: 3.0604e-04\n",
            "Epoch 4/150\n",
            "2046/2046 [==============================] - 5s 2ms/step - loss: 2.8303e-04\n",
            "Epoch 5/150\n",
            "2046/2046 [==============================] - 5s 2ms/step - loss: 2.7214e-04\n",
            "Epoch 6/150\n",
            "2046/2046 [==============================] - 5s 2ms/step - loss: 2.6899e-04\n",
            "Epoch 7/150\n",
            "2046/2046 [==============================] - 4s 2ms/step - loss: 2.7189e-04\n",
            "Epoch 8/150\n",
            "2046/2046 [==============================] - 5s 2ms/step - loss: 2.6990e-04\n",
            "Epoch 9/150\n",
            "2046/2046 [==============================] - 5s 2ms/step - loss: 2.6961e-04\n",
            "Epoch 10/150\n",
            "2046/2046 [==============================] - 5s 2ms/step - loss: 2.6330e-04\n",
            "Epoch 11/150\n",
            "2046/2046 [==============================] - 5s 2ms/step - loss: 2.7345e-04\n",
            "Epoch 12/150\n",
            "2046/2046 [==============================] - 5s 2ms/step - loss: 2.6374e-04\n",
            "Epoch 13/150\n",
            "2046/2046 [==============================] - 5s 2ms/step - loss: 2.7045e-04\n",
            "Epoch 14/150\n",
            "2046/2046 [==============================] - 5s 2ms/step - loss: 2.7676e-04\n",
            "Epoch 15/150\n",
            "2046/2046 [==============================] - 5s 2ms/step - loss: 2.6806e-04\n",
            "Epoch 16/150\n",
            "2046/2046 [==============================] - 5s 2ms/step - loss: 2.6587e-04\n",
            "Epoch 17/150\n",
            "2046/2046 [==============================] - 5s 2ms/step - loss: 2.6151e-04\n",
            "Epoch 18/150\n",
            "2046/2046 [==============================] - 5s 2ms/step - loss: 2.6811e-04\n",
            "Epoch 19/150\n",
            "2046/2046 [==============================] - 5s 2ms/step - loss: 2.7037e-04\n",
            "Epoch 20/150\n",
            "2046/2046 [==============================] - 4s 2ms/step - loss: 2.6079e-04\n",
            "Epoch 21/150\n",
            "2046/2046 [==============================] - 5s 2ms/step - loss: 2.6639e-04\n",
            "Epoch 22/150\n",
            "2046/2046 [==============================] - 5s 2ms/step - loss: 2.6720e-04\n",
            "Epoch 23/150\n",
            "2046/2046 [==============================] - 5s 2ms/step - loss: 2.7117e-04\n",
            "Epoch 24/150\n",
            "2046/2046 [==============================] - 5s 2ms/step - loss: 2.6227e-04\n",
            "Epoch 25/150\n",
            "2046/2046 [==============================] - 5s 2ms/step - loss: 2.7458e-04\n",
            "Epoch 26/150\n",
            "2046/2046 [==============================] - 5s 2ms/step - loss: 2.6705e-04\n",
            "Epoch 27/150\n",
            "2046/2046 [==============================] - 5s 2ms/step - loss: 2.6260e-04\n",
            "Epoch 28/150\n",
            "2046/2046 [==============================] - 5s 2ms/step - loss: 2.7131e-04\n",
            "Epoch 29/150\n",
            "2046/2046 [==============================] - 5s 2ms/step - loss: 2.7722e-04\n",
            "Epoch 30/150\n",
            "2046/2046 [==============================] - 5s 2ms/step - loss: 2.7101e-04\n",
            "Epoch 31/150\n",
            "2046/2046 [==============================] - 5s 2ms/step - loss: 2.6895e-04\n",
            "Epoch 32/150\n",
            "2046/2046 [==============================] - 5s 2ms/step - loss: 2.6400e-04\n",
            "Epoch 33/150\n",
            "2046/2046 [==============================] - 5s 2ms/step - loss: 2.6359e-04\n",
            "Epoch 34/150\n",
            "2046/2046 [==============================] - 5s 2ms/step - loss: 2.6443e-04\n",
            "Epoch 35/150\n",
            "2046/2046 [==============================] - 5s 2ms/step - loss: 2.6729e-04\n",
            "Epoch 36/150\n",
            "2046/2046 [==============================] - 5s 2ms/step - loss: 2.7077e-04\n",
            "Epoch 37/150\n",
            "2046/2046 [==============================] - 5s 2ms/step - loss: 2.6701e-04\n",
            "Epoch 38/150\n",
            "2046/2046 [==============================] - 5s 2ms/step - loss: 2.7465e-04\n",
            "Epoch 39/150\n",
            "2046/2046 [==============================] - 5s 2ms/step - loss: 2.6856e-04\n",
            "Epoch 40/150\n",
            "2046/2046 [==============================] - 5s 2ms/step - loss: 2.6853e-04\n",
            "Epoch 41/150\n",
            "2046/2046 [==============================] - 5s 2ms/step - loss: 2.6487e-04\n",
            "Epoch 42/150\n",
            "2046/2046 [==============================] - 5s 2ms/step - loss: 2.6308e-04\n",
            "Epoch 43/150\n",
            "2046/2046 [==============================] - 5s 2ms/step - loss: 2.5923e-04\n",
            "Epoch 44/150\n",
            "2046/2046 [==============================] - 4s 2ms/step - loss: 2.6736e-04\n",
            "Epoch 45/150\n",
            "2046/2046 [==============================] - 5s 2ms/step - loss: 2.6865e-04\n",
            "Epoch 46/150\n",
            "2046/2046 [==============================] - 5s 2ms/step - loss: 2.6683e-04\n",
            "Epoch 47/150\n",
            "2046/2046 [==============================] - 5s 2ms/step - loss: 2.6909e-04\n",
            "Epoch 48/150\n",
            "2046/2046 [==============================] - 4s 2ms/step - loss: 2.7280e-04\n",
            "Epoch 49/150\n",
            "2046/2046 [==============================] - 4s 2ms/step - loss: 2.5938e-04\n",
            "Epoch 50/150\n",
            "2046/2046 [==============================] - 4s 2ms/step - loss: 2.6571e-04\n",
            "Epoch 51/150\n",
            "2046/2046 [==============================] - 5s 2ms/step - loss: 2.6451e-04\n",
            "Epoch 52/150\n",
            "2046/2046 [==============================] - 4s 2ms/step - loss: 2.7354e-04\n",
            "Epoch 53/150\n",
            "2046/2046 [==============================] - 5s 2ms/step - loss: 2.6346e-04\n",
            "Epoch 54/150\n",
            "2046/2046 [==============================] - 5s 2ms/step - loss: 2.6694e-04\n",
            "Epoch 55/150\n",
            "2046/2046 [==============================] - 5s 2ms/step - loss: 2.6332e-04\n",
            "Epoch 56/150\n",
            "2046/2046 [==============================] - 5s 2ms/step - loss: 2.6370e-04\n",
            "Epoch 57/150\n",
            "2046/2046 [==============================] - 5s 2ms/step - loss: 2.6520e-04\n",
            "Epoch 58/150\n",
            "2046/2046 [==============================] - 5s 2ms/step - loss: 2.6600e-04\n",
            "Epoch 59/150\n",
            "2046/2046 [==============================] - 5s 2ms/step - loss: 2.6888e-04\n",
            "Epoch 60/150\n",
            "2046/2046 [==============================] - 5s 2ms/step - loss: 2.7123e-04\n",
            "Epoch 61/150\n",
            "2046/2046 [==============================] - 5s 2ms/step - loss: 2.6745e-04\n",
            "Epoch 62/150\n",
            "2046/2046 [==============================] - 5s 3ms/step - loss: 2.7159e-04\n",
            "Epoch 63/150\n",
            "2046/2046 [==============================] - 5s 2ms/step - loss: 2.5873e-04\n",
            "Epoch 64/150\n",
            "2046/2046 [==============================] - 5s 2ms/step - loss: 2.6959e-04\n",
            "Epoch 65/150\n",
            "2046/2046 [==============================] - 5s 2ms/step - loss: 2.6593e-04\n",
            "Epoch 66/150\n",
            "2046/2046 [==============================] - 5s 2ms/step - loss: 2.6150e-04\n",
            "Epoch 67/150\n",
            "2046/2046 [==============================] - 5s 2ms/step - loss: 2.7042e-04\n",
            "Epoch 68/150\n",
            "2046/2046 [==============================] - 5s 2ms/step - loss: 2.6484e-04\n",
            "Epoch 69/150\n",
            "2046/2046 [==============================] - 5s 2ms/step - loss: 2.6425e-04\n",
            "Epoch 70/150\n",
            "2046/2046 [==============================] - 5s 2ms/step - loss: 2.6887e-04\n",
            "Epoch 71/150\n",
            "2046/2046 [==============================] - 5s 2ms/step - loss: 2.6087e-04\n",
            "Epoch 72/150\n",
            "2046/2046 [==============================] - 4s 2ms/step - loss: 2.7026e-04\n",
            "Epoch 73/150\n",
            "2046/2046 [==============================] - 5s 2ms/step - loss: 2.6725e-04\n",
            "Epoch 74/150\n",
            "2046/2046 [==============================] - 5s 2ms/step - loss: 2.5911e-04\n",
            "Epoch 75/150\n",
            "2046/2046 [==============================] - 5s 2ms/step - loss: 2.5979e-04\n",
            "Epoch 76/150\n",
            "2046/2046 [==============================] - 5s 2ms/step - loss: 2.6603e-04\n",
            "Epoch 77/150\n",
            "2046/2046 [==============================] - 5s 2ms/step - loss: 2.6917e-04\n",
            "Epoch 78/150\n",
            "2046/2046 [==============================] - 5s 2ms/step - loss: 2.6029e-04\n",
            "Epoch 79/150\n",
            "2046/2046 [==============================] - 5s 2ms/step - loss: 2.6641e-04\n",
            "Epoch 80/150\n",
            "2046/2046 [==============================] - 5s 2ms/step - loss: 2.7298e-04\n",
            "Epoch 81/150\n",
            "2046/2046 [==============================] - 5s 3ms/step - loss: 2.6562e-04\n",
            "Epoch 82/150\n",
            "2046/2046 [==============================] - 5s 2ms/step - loss: 2.6522e-04\n",
            "Epoch 83/150\n",
            "2046/2046 [==============================] - 5s 2ms/step - loss: 2.6412e-04\n",
            "Epoch 84/150\n",
            "2046/2046 [==============================] - 5s 2ms/step - loss: 2.6579e-04\n",
            "Epoch 85/150\n",
            "2046/2046 [==============================] - 5s 2ms/step - loss: 2.6783e-04\n",
            "Epoch 86/150\n",
            "2046/2046 [==============================] - 5s 2ms/step - loss: 2.5902e-04\n",
            "Epoch 87/150\n",
            "2046/2046 [==============================] - 5s 2ms/step - loss: 2.5760e-04\n",
            "Epoch 88/150\n",
            "2046/2046 [==============================] - 5s 2ms/step - loss: 2.6269e-04\n",
            "Epoch 89/150\n",
            "2046/2046 [==============================] - 5s 2ms/step - loss: 2.6493e-04\n",
            "Epoch 90/150\n",
            "2046/2046 [==============================] - 5s 2ms/step - loss: 2.7160e-04\n",
            "Epoch 91/150\n",
            "2046/2046 [==============================] - 5s 2ms/step - loss: 2.5997e-04\n",
            "Epoch 92/150\n",
            "2046/2046 [==============================] - 5s 2ms/step - loss: 2.6799e-04\n",
            "Epoch 93/150\n",
            "2046/2046 [==============================] - 5s 2ms/step - loss: 2.6166e-04\n",
            "Epoch 94/150\n",
            "2046/2046 [==============================] - 5s 2ms/step - loss: 2.6140e-04\n",
            "Epoch 95/150\n",
            "2046/2046 [==============================] - 5s 2ms/step - loss: 2.6094e-04\n",
            "Epoch 96/150\n",
            "2046/2046 [==============================] - 5s 2ms/step - loss: 2.7174e-04\n",
            "Epoch 97/150\n",
            "2046/2046 [==============================] - 4s 2ms/step - loss: 2.6823e-04\n",
            "Epoch 98/150\n",
            "2046/2046 [==============================] - 4s 2ms/step - loss: 2.5819e-04\n",
            "Epoch 99/150\n",
            "2046/2046 [==============================] - 5s 2ms/step - loss: 2.6406e-04\n",
            "Epoch 100/150\n",
            "2046/2046 [==============================] - 4s 2ms/step - loss: 2.6243e-04\n",
            "Epoch 101/150\n",
            "2046/2046 [==============================] - 4s 2ms/step - loss: 2.6462e-04\n",
            "Epoch 102/150\n",
            "2046/2046 [==============================] - 5s 2ms/step - loss: 2.6790e-04\n",
            "Epoch 103/150\n",
            "2046/2046 [==============================] - 4s 2ms/step - loss: 2.6244e-04\n",
            "Epoch 104/150\n",
            "2046/2046 [==============================] - 4s 2ms/step - loss: 2.6812e-04\n",
            "Epoch 105/150\n",
            "2046/2046 [==============================] - 5s 2ms/step - loss: 2.6869e-04\n",
            "Epoch 106/150\n",
            "2046/2046 [==============================] - 4s 2ms/step - loss: 2.5766e-04\n",
            "Epoch 107/150\n",
            "2046/2046 [==============================] - 5s 2ms/step - loss: 2.6778e-04\n",
            "Epoch 108/150\n",
            "2046/2046 [==============================] - 5s 2ms/step - loss: 2.6177e-04\n",
            "Epoch 109/150\n",
            "2046/2046 [==============================] - 5s 2ms/step - loss: 2.6431e-04\n",
            "Epoch 110/150\n",
            "2046/2046 [==============================] - 5s 2ms/step - loss: 2.6304e-04\n",
            "Epoch 111/150\n",
            "2046/2046 [==============================] - 5s 2ms/step - loss: 2.6592e-04\n",
            "Epoch 112/150\n",
            "2046/2046 [==============================] - 5s 2ms/step - loss: 2.6217e-04\n",
            "Epoch 113/150\n",
            "2046/2046 [==============================] - 5s 2ms/step - loss: 2.6424e-04\n",
            "Epoch 114/150\n",
            "2046/2046 [==============================] - 5s 2ms/step - loss: 2.6666e-04\n",
            "Epoch 115/150\n",
            "2046/2046 [==============================] - 5s 2ms/step - loss: 2.6307e-04\n",
            "Epoch 116/150\n",
            "2046/2046 [==============================] - 4s 2ms/step - loss: 2.6727e-04\n",
            "Epoch 117/150\n",
            "2046/2046 [==============================] - 5s 2ms/step - loss: 2.6079e-04\n",
            "Epoch 118/150\n",
            "2046/2046 [==============================] - 5s 2ms/step - loss: 2.6174e-04\n",
            "Epoch 119/150\n",
            "2046/2046 [==============================] - 5s 2ms/step - loss: 2.7640e-04\n",
            "Epoch 120/150\n",
            "2046/2046 [==============================] - 5s 2ms/step - loss: 2.6403e-04\n",
            "Epoch 121/150\n",
            "2046/2046 [==============================] - 4s 2ms/step - loss: 2.6314e-04\n",
            "Epoch 122/150\n",
            "2046/2046 [==============================] - 4s 2ms/step - loss: 2.6318e-04\n",
            "Epoch 123/150\n",
            "2046/2046 [==============================] - 4s 2ms/step - loss: 2.6601e-04\n",
            "Epoch 124/150\n",
            "2046/2046 [==============================] - 4s 2ms/step - loss: 2.6278e-04\n",
            "Epoch 125/150\n",
            "2046/2046 [==============================] - 4s 2ms/step - loss: 2.5533e-04\n",
            "Epoch 126/150\n",
            "2046/2046 [==============================] - 5s 2ms/step - loss: 2.6055e-04\n",
            "Epoch 127/150\n",
            "2046/2046 [==============================] - 5s 2ms/step - loss: 2.6221e-04\n",
            "Epoch 128/150\n",
            "2046/2046 [==============================] - 5s 2ms/step - loss: 2.5934e-04\n",
            "Epoch 129/150\n",
            "2046/2046 [==============================] - 4s 2ms/step - loss: 2.6307e-04\n",
            "Epoch 130/150\n",
            "2046/2046 [==============================] - 5s 2ms/step - loss: 2.6669e-04\n",
            "Epoch 131/150\n",
            "2046/2046 [==============================] - 5s 2ms/step - loss: 2.6147e-04\n",
            "Epoch 132/150\n",
            "2046/2046 [==============================] - 5s 2ms/step - loss: 2.6325e-04\n",
            "Epoch 133/150\n",
            "2046/2046 [==============================] - 5s 2ms/step - loss: 2.5868e-04\n",
            "Epoch 134/150\n",
            "2046/2046 [==============================] - 5s 2ms/step - loss: 2.6145e-04\n",
            "Epoch 135/150\n",
            "2046/2046 [==============================] - 5s 2ms/step - loss: 2.5703e-04\n",
            "Epoch 136/150\n",
            "2046/2046 [==============================] - 5s 2ms/step - loss: 2.6281e-04\n",
            "Epoch 137/150\n",
            "2046/2046 [==============================] - 5s 2ms/step - loss: 2.5940e-04\n",
            "Epoch 138/150\n",
            "2046/2046 [==============================] - 5s 2ms/step - loss: 2.6280e-04\n",
            "Epoch 139/150\n",
            "2046/2046 [==============================] - 5s 2ms/step - loss: 2.6104e-04\n",
            "Epoch 140/150\n",
            "2046/2046 [==============================] - 5s 2ms/step - loss: 2.6375e-04\n",
            "Epoch 141/150\n",
            "2046/2046 [==============================] - 5s 2ms/step - loss: 2.5827e-04\n",
            "Epoch 142/150\n",
            "2046/2046 [==============================] - 5s 2ms/step - loss: 2.5440e-04\n",
            "Epoch 143/150\n",
            "2046/2046 [==============================] - 5s 2ms/step - loss: 2.5929e-04\n",
            "Epoch 144/150\n",
            "2046/2046 [==============================] - 5s 2ms/step - loss: 2.5882e-04\n",
            "Epoch 145/150\n",
            "2046/2046 [==============================] - 5s 2ms/step - loss: 2.5991e-04\n",
            "Epoch 146/150\n",
            "2046/2046 [==============================] - 5s 2ms/step - loss: 2.5761e-04\n",
            "Epoch 147/150\n",
            "2046/2046 [==============================] - 5s 2ms/step - loss: 2.5427e-04\n",
            "Epoch 148/150\n",
            "2046/2046 [==============================] - 5s 2ms/step - loss: 2.5805e-04\n",
            "Epoch 149/150\n",
            "2046/2046 [==============================] - 5s 2ms/step - loss: 2.5938e-04\n",
            "Epoch 150/150\n",
            "2046/2046 [==============================] - 5s 2ms/step - loss: 2.5050e-04\n"
          ]
        },
        {
          "output_type": "execute_result",
          "data": {
            "text/plain": [
              "<keras.src.callbacks.History at 0x7f810f68f340>"
            ]
          },
          "metadata": {},
          "execution_count": 7
        }
      ]
    },
    {
      "cell_type": "code",
      "source": [
        "# Make predictions on the test dataset\n",
        "testPredictions = model_best.predict(testX).flatten()\n",
        "\n",
        "# Invert predictions to original scale\n",
        "testPredictions_original = scaler.inverse_transform(testPredictions.reshape(-1, 1)).flatten()\n",
        "testY_original = scaler.inverse_transform(testY_BBVA.reshape(-1, 1)).flatten()\n"
      ],
      "metadata": {
        "colab": {
          "base_uri": "https://localhost:8080/"
        },
        "id": "0dHMWcyi2SNJ",
        "outputId": "75094ce7-4ef2-4fb8-afa0-f3c144a000f6"
      },
      "execution_count": 8,
      "outputs": [
        {
          "output_type": "stream",
          "name": "stdout",
          "text": [
            "16/16 [==============================] - 0s 2ms/step\n"
          ]
        }
      ]
    },
    {
      "cell_type": "code",
      "source": [
        "\n",
        "\n",
        "# Calculate performance metrics on the original scale\n",
        "mse_original = mean_squared_error(testY_original, testPredictions_original)\n",
        "rmse_original = np.sqrt(mse_original)\n",
        "mape_original = np.mean(np.abs((testY_original - testPredictions_original) / testY_original)) * 100\n",
        "\n",
        "print(f'Mean Squared Error (MSE) on Original Scale: {mse_original}')\n",
        "print(f'Root Mean Squared Error (RMSE) on Original Scale: {rmse_original}')\n",
        "print(f'Mean Absolute Percentage Error (MAPE) on Original Scale: {mape_original}%')\n"
      ],
      "metadata": {
        "colab": {
          "base_uri": "https://localhost:8080/"
        },
        "id": "Klwje_x22Gvu",
        "outputId": "ae605e46-cd66-4595-9ccf-dfb6243974fb"
      },
      "execution_count": 9,
      "outputs": [
        {
          "output_type": "stream",
          "name": "stdout",
          "text": [
            "Mean Squared Error (MSE) on Original Scale: 0.013156795371648048\n",
            "Root Mean Squared Error (RMSE) on Original Scale: 0.11470307481339831\n",
            "Mean Absolute Percentage Error (MAPE) on Original Scale: 1.4196230639732632%\n"
          ]
        }
      ]
    },
    {
      "cell_type": "code",
      "source": [
        "import matplotlib.pyplot as plt\n",
        "\n",
        "# Plotting the final model predictions\n",
        "plt.figure(figsize=(12,6))\n",
        "plt.plot(df_BBVA.index[train_size_BBVA + look_back + 1:len(df_BBVA)], testY_original, label='Actual Test Values', color='blue', linewidth=1)\n",
        "plt.plot(df_BBVA.index[train_size_BBVA + look_back + 1:len(df_BBVA)], testPredictions_original, label='Predicted Test Values', color='red', linewidth=1)\n",
        "plt.title('LSTM Model: Actual vs. Predicted Stock Prices for BBVA')\n",
        "plt.xlabel('Time')\n",
        "plt.ylabel('Stock Price (in EUR)')\n",
        "plt.legend()\n",
        "plt.xticks(rotation=45)\n",
        "plt.show()\n"
      ],
      "metadata": {
        "colab": {
          "base_uri": "https://localhost:8080/",
          "height": 601
        },
        "id": "IggWIQOq2Sys",
        "outputId": "e94636a3-cc92-4808-fa93-f91f2ad065b7"
      },
      "execution_count": 10,
      "outputs": [
        {
          "output_type": "display_data",
          "data": {
            "text/plain": [
              "<Figure size 1200x600 with 1 Axes>"
            ],
            "image/png": "[encoded data removed]"
          },
          "metadata": {}
        }
      ]
    }
  ]
}