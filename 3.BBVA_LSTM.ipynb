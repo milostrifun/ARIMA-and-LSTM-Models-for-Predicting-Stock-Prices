{
  "nbformat": 4,
  "nbformat_minor": 0,
  "metadata": {
    "colab": {
      "provenance": []
    },
    "kernelspec": {
      "name": "python3",
      "display_name": "Python 3"
    },
    "language_info": {
      "name": "python"
    }
  },
  "cells": [
    {
      "cell_type": "code",
      "execution_count": 1,
      "metadata": {
        "colab": {
          "base_uri": "https://localhost:8080/"
        },
        "id": "DA7Vc_SGBN9y",
        "outputId": "7d81d100-0f94-455f-8693-e61f4dd986b7"
      },
      "outputs": [
        {
          "output_type": "stream",
          "name": "stderr",
          "text": [
            "<ipython-input-1-b9507998146d>:2: FutureWarning: The pandas.datetime class is deprecated and will be removed from pandas in a future version. Import from datetime module instead.\n",
            "  from pandas import datetime\n"
          ]
        }
      ],
      "source": [
        "import pandas as pd\n",
        "from pandas import datetime\n",
        "# Load the dataset\n",
        "file_path = 'BBVA.MC.csv'\n",
        "df_BBVA = pd.read_csv(file_path)"
      ]
    },
    {
      "cell_type": "code",
      "source": [
        "# Check for missing values\n",
        "df_BBVA.isnull().sum()"
      ],
      "metadata": {
        "colab": {
          "base_uri": "https://localhost:8080/"
        },
        "id": "Fg_KCcmtBRV_",
        "outputId": "2fffc397-6761-48d6-f812-55edc9668ffa"
      },
      "execution_count": 2,
      "outputs": [
        {
          "output_type": "execute_result",
          "data": {
            "text/plain": [
              "Date         0\n",
              "Open         1\n",
              "High         1\n",
              "Low          1\n",
              "Close        1\n",
              "Adj Close    1\n",
              "Volume       1\n",
              "dtype: int64"
            ]
          },
          "metadata": {},
          "execution_count": 2
        }
      ]
    },
    {
      "cell_type": "code",
      "source": [
        "df_BBVA = df_BBVA.interpolate(method='linear', limit_direction='both', axis=0)"
      ],
      "metadata": {
        "id": "pPC7LizrBWhE"
      },
      "execution_count": 3,
      "outputs": []
    },
    {
      "cell_type": "code",
      "source": [
        "# Convert the 'Date' column to datetime if it's not already\n",
        "df_BBVA['Date'] = pd.to_datetime(df_BBVA['Date'])\n",
        "\n",
        "# Set the 'Date' column as the index\n",
        "df_BBVA.set_index('Date', inplace=True)"
      ],
      "metadata": {
        "id": "NaAu6Os_BY2G"
      },
      "execution_count": 4,
      "outputs": []
    },
    {
      "cell_type": "code",
      "source": [
        "import tensorflow as tf\n",
        "import numpy as np\n",
        "\n",
        "# Set seed for reproducibility\n",
        "seed_value = 42\n",
        "np.random.seed(seed_value)\n",
        "tf.random.set_seed(seed_value)"
      ],
      "metadata": {
        "id": "gkvbIDXSBdw4"
      },
      "execution_count": 5,
      "outputs": []
    },
    {
      "cell_type": "code",
      "source": [
        "from sklearn.preprocessing import MinMaxScaler\n",
        "\n",
        "# Initialize the MinMaxScaler\n",
        "scaler = MinMaxScaler(feature_range=(0, 1))\n",
        "\n",
        "# Create a new dataframe with only the 'Close' column and convert it to numpy array\n",
        "df_close_BBVA = df_BBVA['Close'].values.reshape(-1, 1)\n",
        "\n",
        "# Normalize the 'OHLC_Avg' values\n",
        "scaled_df_close_BBVA = scaler.fit_transform(df_close_BBVA)"
      ],
      "metadata": {
        "id": "u-zmBiSkBgV4"
      },
      "execution_count": 6,
      "outputs": []
    },
    {
      "cell_type": "code",
      "source": [
        "# Define the size of the training dataset\n",
        "train_size_BBVA = int(len(scaled_df_close_BBVA) * 0.8)\n",
        "\n",
        "# Split the data into training and testing datasets\n",
        "train_BBVA, test_BBVA = scaled_df_close_BBVA[0:train_size_BBVA, :], scaled_df_close_BBVA[train_size_BBVA:len(scaled_df_close_BBVA), :]"
      ],
      "metadata": {
        "id": "wh3G3edLBmEv"
      },
      "execution_count": 7,
      "outputs": []
    },
    {
      "cell_type": "code",
      "source": [
        "import numpy as np\n",
        "\n",
        "def create_dataset(dataset, look_back=1):\n",
        "    dataX, dataY = [], []\n",
        "    for i in range(len(dataset) - look_back - 1):\n",
        "        a = dataset[i:(i + look_back), 0]\n",
        "        dataX.append(a)\n",
        "        dataY.append(dataset[i + look_back, 0])\n",
        "    return np.array(dataX), np.array(dataY)\n",
        "\n",
        "# Create training and testing datasets\n",
        "look_back = 1\n",
        "trainX_BBVA, trainY_BBVA = create_dataset(train_BBVA, look_back)\n",
        "testX_BBVA, testY_BBVA = create_dataset(test_BBVA, look_back)\n",
        "\n",
        "# Reshape input to be [samples, time steps, features]\n",
        "trainX = np.reshape(trainX_BBVA, (trainX_BBVA.shape[0], 1, trainX_BBVA.shape[1]))\n",
        "testX = np.reshape(testX_BBVA, (testX_BBVA.shape[0], 1, testX_BBVA.shape[1]))"
      ],
      "metadata": {
        "id": "xZJ9EeU7BunD"
      },
      "execution_count": 8,
      "outputs": []
    },
    {
      "cell_type": "code",
      "source": [
        "from keras.models import Sequential\n",
        "from keras.layers import Dense, LSTM\n",
        "from keras.optimizers import Adam\n",
        "\n",
        "# Specify the learning rate\n",
        "learning_rate = 0.001\n",
        "\n",
        "# Initialize the LSTM model\n",
        "model_BBVA = Sequential()\n",
        "\n",
        "# Add LSTM layer\n",
        "model_BBVA.add(LSTM(4, input_shape=(1, look_back)))\n",
        "\n",
        "# Add output layer\n",
        "model_BBVA.add(Dense(1))\n",
        "\n",
        "# Create an instance of the Adam optimizer with the specified learning rate\n",
        "adam_optimizer = Adam(learning_rate=learning_rate)\n",
        "\n",
        "# Compile the model with the custom optimizer\n",
        "model_BBVA.compile(loss='mean_squared_error', optimizer=adam_optimizer)"
      ],
      "metadata": {
        "id": "f3TroQ6PB39h"
      },
      "execution_count": 9,
      "outputs": []
    },
    {
      "cell_type": "code",
      "source": [
        "# Train the model\n",
        "model_BBVA.fit(trainX_BBVA, trainY_BBVA, epochs=100, batch_size=1, verbose=1)"
      ],
      "metadata": {
        "colab": {
          "base_uri": "https://localhost:8080/"
        },
        "id": "1oOOqrvFB-ZH",
        "outputId": "1cc40b68-3736-42d2-d33c-c02ec067727b"
      },
      "execution_count": 10,
      "outputs": [
        {
          "output_type": "stream",
          "name": "stdout",
          "text": [
            "Epoch 1/100\n",
            "2046/2046 [==============================] - 15s 3ms/step - loss: 0.0244\n",
            "Epoch 2/100\n",
            "2046/2046 [==============================] - 7s 3ms/step - loss: 4.1330e-04\n",
            "Epoch 3/100\n",
            "2046/2046 [==============================] - 6s 3ms/step - loss: 3.2663e-04\n",
            "Epoch 4/100\n",
            "2046/2046 [==============================] - 6s 3ms/step - loss: 2.8813e-04\n",
            "Epoch 5/100\n",
            "2046/2046 [==============================] - 6s 3ms/step - loss: 2.6924e-04\n",
            "Epoch 6/100\n",
            "2046/2046 [==============================] - 5s 3ms/step - loss: 2.6676e-04\n",
            "Epoch 7/100\n",
            "2046/2046 [==============================] - 7s 3ms/step - loss: 2.6475e-04\n",
            "Epoch 8/100\n",
            "2046/2046 [==============================] - 6s 3ms/step - loss: 2.6567e-04\n",
            "Epoch 9/100\n",
            "2046/2046 [==============================] - 8s 4ms/step - loss: 2.6364e-04\n",
            "Epoch 10/100\n",
            "2046/2046 [==============================] - 6s 3ms/step - loss: 2.6182e-04\n",
            "Epoch 11/100\n",
            "2046/2046 [==============================] - 7s 3ms/step - loss: 2.6859e-04\n",
            "Epoch 12/100\n",
            "2046/2046 [==============================] - 6s 3ms/step - loss: 2.5923e-04\n",
            "Epoch 13/100\n",
            "2046/2046 [==============================] - 8s 4ms/step - loss: 2.6652e-04\n",
            "Epoch 14/100\n",
            "2046/2046 [==============================] - 6s 3ms/step - loss: 2.6872e-04\n",
            "Epoch 15/100\n",
            "2046/2046 [==============================] - 8s 4ms/step - loss: 2.6112e-04\n",
            "Epoch 16/100\n",
            "2046/2046 [==============================] - 6s 3ms/step - loss: 2.6382e-04\n",
            "Epoch 17/100\n",
            "2046/2046 [==============================] - 7s 3ms/step - loss: 2.6197e-04\n",
            "Epoch 18/100\n",
            "2046/2046 [==============================] - 7s 3ms/step - loss: 2.6264e-04\n",
            "Epoch 19/100\n",
            "2046/2046 [==============================] - 7s 3ms/step - loss: 2.6563e-04\n",
            "Epoch 20/100\n",
            "2046/2046 [==============================] - 6s 3ms/step - loss: 2.5752e-04\n",
            "Epoch 21/100\n",
            "2046/2046 [==============================] - 7s 3ms/step - loss: 2.6346e-04\n",
            "Epoch 22/100\n",
            "2046/2046 [==============================] - 6s 3ms/step - loss: 2.6452e-04\n",
            "Epoch 23/100\n",
            "2046/2046 [==============================] - 7s 4ms/step - loss: 2.6750e-04\n",
            "Epoch 24/100\n",
            "2046/2046 [==============================] - 6s 3ms/step - loss: 2.5972e-04\n",
            "Epoch 25/100\n",
            "2046/2046 [==============================] - 7s 3ms/step - loss: 2.6985e-04\n",
            "Epoch 26/100\n",
            "2046/2046 [==============================] - 6s 3ms/step - loss: 2.6185e-04\n",
            "Epoch 27/100\n",
            "2046/2046 [==============================] - 6s 3ms/step - loss: 2.6025e-04\n",
            "Epoch 28/100\n",
            "2046/2046 [==============================] - 7s 3ms/step - loss: 2.6408e-04\n",
            "Epoch 29/100\n",
            "2046/2046 [==============================] - 5s 3ms/step - loss: 2.6905e-04\n",
            "Epoch 30/100\n",
            "2046/2046 [==============================] - 7s 3ms/step - loss: 2.6469e-04\n",
            "Epoch 31/100\n",
            "2046/2046 [==============================] - 5s 3ms/step - loss: 2.6542e-04\n",
            "Epoch 32/100\n",
            "2046/2046 [==============================] - 6s 3ms/step - loss: 2.5701e-04\n",
            "Epoch 33/100\n",
            "2046/2046 [==============================] - 5s 2ms/step - loss: 2.5854e-04\n",
            "Epoch 34/100\n",
            "2046/2046 [==============================] - 5s 2ms/step - loss: 2.5990e-04\n",
            "Epoch 35/100\n",
            "2046/2046 [==============================] - 7s 3ms/step - loss: 2.5942e-04\n",
            "Epoch 36/100\n",
            "2046/2046 [==============================] - 5s 2ms/step - loss: 2.6263e-04\n",
            "Epoch 37/100\n",
            "2046/2046 [==============================] - 6s 3ms/step - loss: 2.5582e-04\n",
            "Epoch 38/100\n",
            "2046/2046 [==============================] - 5s 2ms/step - loss: 2.6245e-04\n",
            "Epoch 39/100\n",
            "2046/2046 [==============================] - 6s 3ms/step - loss: 2.5779e-04\n",
            "Epoch 40/100\n",
            "2046/2046 [==============================] - 6s 3ms/step - loss: 2.5823e-04\n",
            "Epoch 41/100\n",
            "2046/2046 [==============================] - 5s 3ms/step - loss: 2.5292e-04\n",
            "Epoch 42/100\n",
            "2046/2046 [==============================] - 6s 3ms/step - loss: 2.5512e-04\n",
            "Epoch 43/100\n",
            "2046/2046 [==============================] - 5s 2ms/step - loss: 2.4965e-04\n",
            "Epoch 44/100\n",
            "2046/2046 [==============================] - 6s 3ms/step - loss: 2.5497e-04\n",
            "Epoch 45/100\n",
            "2046/2046 [==============================] - 6s 3ms/step - loss: 2.5437e-04\n",
            "Epoch 46/100\n",
            "2046/2046 [==============================] - 5s 2ms/step - loss: 2.5422e-04\n",
            "Epoch 47/100\n",
            "2046/2046 [==============================] - 6s 3ms/step - loss: 2.5644e-04\n",
            "Epoch 48/100\n",
            "2046/2046 [==============================] - 5s 2ms/step - loss: 2.5860e-04\n",
            "Epoch 49/100\n",
            "2046/2046 [==============================] - 5s 2ms/step - loss: 2.4940e-04\n",
            "Epoch 50/100\n",
            "2046/2046 [==============================] - 5s 3ms/step - loss: 2.5220e-04\n",
            "Epoch 51/100\n",
            "2046/2046 [==============================] - 5s 2ms/step - loss: 2.5268e-04\n",
            "Epoch 52/100\n",
            "2046/2046 [==============================] - 7s 3ms/step - loss: 2.6053e-04\n",
            "Epoch 53/100\n",
            "2046/2046 [==============================] - 5s 2ms/step - loss: 2.5112e-04\n",
            "Epoch 54/100\n",
            "2046/2046 [==============================] - 5s 2ms/step - loss: 2.5298e-04\n",
            "Epoch 55/100\n",
            "2046/2046 [==============================] - 6s 3ms/step - loss: 2.5114e-04\n",
            "Epoch 56/100\n",
            "2046/2046 [==============================] - 5s 2ms/step - loss: 2.5187e-04\n",
            "Epoch 57/100\n",
            "2046/2046 [==============================] - 5s 3ms/step - loss: 2.5313e-04\n",
            "Epoch 58/100\n",
            "2046/2046 [==============================] - 5s 2ms/step - loss: 2.5197e-04\n",
            "Epoch 59/100\n",
            "2046/2046 [==============================] - 5s 2ms/step - loss: 2.5417e-04\n",
            "Epoch 60/100\n",
            "2046/2046 [==============================] - 6s 3ms/step - loss: 2.5654e-04\n",
            "Epoch 61/100\n",
            "2046/2046 [==============================] - 5s 2ms/step - loss: 2.5540e-04\n",
            "Epoch 62/100\n",
            "2046/2046 [==============================] - 6s 3ms/step - loss: 2.5713e-04\n",
            "Epoch 63/100\n",
            "2046/2046 [==============================] - 5s 3ms/step - loss: 2.4808e-04\n",
            "Epoch 64/100\n",
            "2046/2046 [==============================] - 5s 2ms/step - loss: 2.5806e-04\n",
            "Epoch 65/100\n",
            "2046/2046 [==============================] - 6s 3ms/step - loss: 2.5185e-04\n",
            "Epoch 66/100\n",
            "2046/2046 [==============================] - 5s 3ms/step - loss: 2.4976e-04\n",
            "Epoch 67/100\n",
            "2046/2046 [==============================] - 6s 3ms/step - loss: 2.5647e-04\n",
            "Epoch 68/100\n",
            "2046/2046 [==============================] - 6s 3ms/step - loss: 2.5325e-04\n",
            "Epoch 69/100\n",
            "2046/2046 [==============================] - 5s 2ms/step - loss: 2.5086e-04\n",
            "Epoch 70/100\n",
            "2046/2046 [==============================] - 6s 3ms/step - loss: 2.5542e-04\n",
            "Epoch 71/100\n",
            "2046/2046 [==============================] - 5s 2ms/step - loss: 2.4998e-04\n",
            "Epoch 72/100\n",
            "2046/2046 [==============================] - 5s 2ms/step - loss: 2.5498e-04\n",
            "Epoch 73/100\n",
            "2046/2046 [==============================] - 6s 3ms/step - loss: 2.5472e-04\n",
            "Epoch 74/100\n",
            "2046/2046 [==============================] - 5s 2ms/step - loss: 2.4736e-04\n",
            "Epoch 75/100\n",
            "2046/2046 [==============================] - 6s 3ms/step - loss: 2.4746e-04\n",
            "Epoch 76/100\n",
            "2046/2046 [==============================] - 5s 2ms/step - loss: 2.5250e-04\n",
            "Epoch 77/100\n",
            "2046/2046 [==============================] - 5s 2ms/step - loss: 2.5583e-04\n",
            "Epoch 78/100\n",
            "2046/2046 [==============================] - 6s 3ms/step - loss: 2.4912e-04\n",
            "Epoch 79/100\n",
            "2046/2046 [==============================] - 5s 2ms/step - loss: 2.5415e-04\n",
            "Epoch 80/100\n",
            "2046/2046 [==============================] - 6s 3ms/step - loss: 2.5813e-04\n",
            "Epoch 81/100\n",
            "2046/2046 [==============================] - 5s 2ms/step - loss: 2.5128e-04\n",
            "Epoch 82/100\n",
            "2046/2046 [==============================] - 4s 2ms/step - loss: 2.5220e-04\n",
            "Epoch 83/100\n",
            "2046/2046 [==============================] - 6s 3ms/step - loss: 2.5257e-04\n",
            "Epoch 84/100\n",
            "2046/2046 [==============================] - 5s 2ms/step - loss: 2.5250e-04\n",
            "Epoch 85/100\n",
            "2046/2046 [==============================] - 5s 3ms/step - loss: 2.5307e-04\n",
            "Epoch 86/100\n",
            "2046/2046 [==============================] - 5s 3ms/step - loss: 2.4822e-04\n",
            "Epoch 87/100\n",
            "2046/2046 [==============================] - 5s 2ms/step - loss: 2.4641e-04\n",
            "Epoch 88/100\n",
            "2046/2046 [==============================] - 6s 3ms/step - loss: 2.5072e-04\n",
            "Epoch 89/100\n",
            "2046/2046 [==============================] - 5s 2ms/step - loss: 2.5093e-04\n",
            "Epoch 90/100\n",
            "2046/2046 [==============================] - 5s 3ms/step - loss: 2.5574e-04\n",
            "Epoch 91/100\n",
            "2046/2046 [==============================] - 6s 3ms/step - loss: 2.4807e-04\n",
            "Epoch 92/100\n",
            "2046/2046 [==============================] - 5s 3ms/step - loss: 2.5299e-04\n",
            "Epoch 93/100\n",
            "2046/2046 [==============================] - 6s 3ms/step - loss: 2.4940e-04\n",
            "Epoch 94/100\n",
            "2046/2046 [==============================] - 4s 2ms/step - loss: 2.4923e-04\n",
            "Epoch 95/100\n",
            "2046/2046 [==============================] - 5s 2ms/step - loss: 2.5003e-04\n",
            "Epoch 96/100\n",
            "2046/2046 [==============================] - 6s 3ms/step - loss: 2.5744e-04\n",
            "Epoch 97/100\n",
            "2046/2046 [==============================] - 5s 2ms/step - loss: 2.5449e-04\n",
            "Epoch 98/100\n",
            "2046/2046 [==============================] - 6s 3ms/step - loss: 2.4603e-04\n",
            "Epoch 99/100\n",
            "2046/2046 [==============================] - 5s 2ms/step - loss: 2.5049e-04\n",
            "Epoch 100/100\n",
            "2046/2046 [==============================] - 5s 3ms/step - loss: 2.5066e-04\n"
          ]
        },
        {
          "output_type": "execute_result",
          "data": {
            "text/plain": [
              "<keras.src.callbacks.History at 0x7efdb80ebf10>"
            ]
          },
          "metadata": {},
          "execution_count": 10
        }
      ]
    },
    {
      "cell_type": "code",
      "source": [
        "# Evaluate the model\n",
        "loss_BBVA = model_BBVA.evaluate(testX_BBVA, testY_BBVA, verbose=0)\n",
        "print(f\"Test Loss: {loss_BBVA}\")"
      ],
      "metadata": {
        "colab": {
          "base_uri": "https://localhost:8080/"
        },
        "id": "gL3Bzjd2CEI1",
        "outputId": "1f228a12-c58c-4e7c-94ba-bae30ae2e20e"
      },
      "execution_count": 11,
      "outputs": [
        {
          "output_type": "stream",
          "name": "stdout",
          "text": [
            "Test Loss: 0.00022140919463708997\n"
          ]
        }
      ]
    },
    {
      "cell_type": "code",
      "source": [
        "import matplotlib.pyplot as plt\n",
        "\n",
        "# Make predictions\n",
        "testPredict_BBVA = model_BBVA.predict(testX_BBVA)\n",
        "\n",
        "# Invert predictions back to original scale\n",
        "testPredict_BBVA = scaler.inverse_transform(testPredict_BBVA)\n",
        "testY_BBVA = scaler.inverse_transform([testY_BBVA])"
      ],
      "metadata": {
        "colab": {
          "base_uri": "https://localhost:8080/"
        },
        "id": "ZTzM8_o8CJ5h",
        "outputId": "792b0565-1a0e-4596-e17d-4e56e9890a69"
      },
      "execution_count": 12,
      "outputs": [
        {
          "output_type": "stream",
          "name": "stdout",
          "text": [
            "16/16 [==============================] - 1s 5ms/step\n"
          ]
        }
      ]
    },
    {
      "cell_type": "code",
      "source": [
        "from sklearn.metrics import mean_squared_error\n",
        "# Flatten the arrays\n",
        "testPredict_BBVA_flat = testPredict_BBVA.flatten()\n",
        "testY_BBVA_flat = testY_BBVA.flatten()\n",
        "\n",
        "# Check the shapes\n",
        "print(f'Shape of testY_BBVA: {testY_BBVA_flat.shape}')\n",
        "print(f'Shape of testPredict_BBVA: {testPredict_BBVA_flat.shape}')\n",
        "\n",
        "# Ensure that the shapes are the same before calculating the metrics\n",
        "if testY_BBVA_flat.shape == testPredict_BBVA_flat.shape:\n",
        "    # Calculate MSE\n",
        "    mse = mean_squared_error(testY_BBVA_flat, testPredict_BBVA_flat)\n",
        "    print(f'Mean Squared Error (MSE): {mse}')\n",
        "\n",
        "    # Calculate RMSE\n",
        "    rmse = np.sqrt(mse)\n",
        "    print(f'Root Mean Squared Error (RMSE): {rmse}')\n",
        "\n",
        "    # Calculate MAPE\n",
        "    mape = np.mean(np.abs((testY_BBVA_flat - testPredict_BBVA_flat) / testY_BBVA_flat)) * 100\n",
        "    print(f'Mean Absolute Percentage Error (MAPE): {mape}%')\n",
        "else:\n",
        "    print(\"Error: The shapes of testY_BBVA and testPredict_BBVA do not match.\")\n"
      ],
      "metadata": {
        "colab": {
          "base_uri": "https://localhost:8080/"
        },
        "id": "n1lw4wwwCUbG",
        "outputId": "1eff6e40-1419-493a-c4c4-8b00d9c3457d"
      },
      "execution_count": 13,
      "outputs": [
        {
          "output_type": "stream",
          "name": "stdout",
          "text": [
            "Shape of testY_BBVA: (510,)\n",
            "Shape of testPredict_BBVA: (510,)\n",
            "Mean Squared Error (MSE): 0.013353357197025281\n",
            "Root Mean Squared Error (RMSE): 0.11555672718204371\n",
            "Mean Absolute Percentage Error (MAPE): 1.4478472806216156%\n"
          ]
        }
      ]
    },
    {
      "cell_type": "code",
      "source": [
        "# Extract dates corresponding to the test data\n",
        "test_dates = df_BBVA.index[train_size_BBVA + look_back + 1:len(df_BBVA)]\n",
        "\n",
        "# Plotting the test predictions\n",
        "plt.figure(figsize=(12,6))\n",
        "plt.plot(test_dates, testY_BBVA_flat, label='Actual Test Values', color='blue', linewidth=1)\n",
        "plt.plot(test_dates, testPredict_BBVA_flat, label='Predicted Test Values', color='red', linewidth=1)\n",
        "plt.title('LSTM Model: Actual vs. Predicted Stock Prices for BBVA')\n",
        "plt.xlabel('Time')\n",
        "plt.ylabel('Stock Price (in EUR)')\n",
        "plt.legend()\n",
        "plt.xticks(rotation=45)  # Rotate the x-axis labels for better readability\n",
        "plt.show()\n",
        "\n"
      ],
      "metadata": {
        "colab": {
          "base_uri": "https://localhost:8080/",
          "height": 601
        },
        "id": "ZSS5P0o9CmVR",
        "outputId": "c6de2b7e-b3ec-45e5-f3d4-4214eba15c51"
      },
      "execution_count": 14,
      "outputs": [
        {
          "output_type": "display_data",
          "data": {
            "text/plain": [
              "<Figure size 1200x600 with 1 Axes>"
            ],
            "image/png": "[encoded data removed]"
          },
          "metadata": {}
        }
      ]
    }
  ]
}